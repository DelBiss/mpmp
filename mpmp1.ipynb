{
 "nbformat": 4,
 "nbformat_minor": 2,
 "metadata": {
  "language_info": {
   "name": "python",
   "codemirror_mode": {
    "name": "ipython",
    "version": 3
   },
   "version": "3.8.2-final"
  },
  "orig_nbformat": 2,
  "file_extension": ".py",
  "mimetype": "text/x-python",
  "name": "python",
  "npconvert_exporter": "python",
  "pygments_lexer": "ipython3",
  "version": 3,
  "kernelspec": {
   "name": "python38232bit2fcfc30828d844a2bf712ba177ba7e55",
   "display_name": "Python 3.8.2 32-bit"
  }
 },
 "cells": [
  {
   "cell_type": "markdown",
   "metadata": {},
   "source": [
    "Matt Parker's Math Puzzle #1\n",
    "======\n",
    "Since Matt Parker love some brute force python, I propose this solution his Math Puzzle #1.\n",
    "\n",
    "https://www.youtube.com/watch?v=T29dydI97zY\n",
    "\n",
    "Import\n",
    "------\n",
    "To ease our task, let's use some librairie\n",
    "### itertools\n",
    "itertools let us use the permutation fonction to generate all the posible way our investor can sit around the table.\n",
    "### pandas\n",
    "pandas let us manipulate data more easily in a table format"
   ],
   "execution_count": null,
   "outputs": []
  },
  {
   "cell_type": "code",
   "execution_count": 1,
   "metadata": {},
   "outputs": [],
   "source": [
    "import itertools\n",
    "import pandas as pd"
   ]
  },
  {
   "cell_type": "markdown",
   "metadata": {},
   "source": [
    "Is Sit Properly\n",
    "-------\n",
    "We define a function that let us check if our investor are sit on the right seat.\n",
    "\n",
    "### How does it work\n",
    "For each chair we look if it's the right person and store the result in a list.\n",
    "At the end, we combine all those result to get back a table similar to our seat list but with boolean value\n",
    "\n",
    "We also allow to pass an Offset value to simulate the table rotation"
   ],
   "execution_count": null,
   "outputs": []
  },
  {
   "cell_type": "code",
   "execution_count": 2,
   "metadata": {},
   "outputs": [],
   "source": [
    "def IsSitProperly(pdData,ListOfPerson,Offset=0):\n",
    "    lResult = []\n",
    "    for personIndex, chair in enumerate(ListOfPerson):\n",
    "        lResult.append(pdData[chair]==ListOfPerson[(personIndex+Offset)%len(ListOfPerson)])\n",
    "    return pd.DataFrame(lResult)"
   ]
  },
  {
   "cell_type": "markdown",
   "metadata": {},
   "source": [
    "Defining constant\n",
    "------\n",
    "We define our constant:\n",
    "* **NbOfPerson** : Number of investor\n",
    "* **NbToWin** : Number of investor needed to get our funding\n",
    "* **NbToStart** : This define the number of investor sitted on the right chair just before spinning the table"
   ],
   "execution_count": null,
   "outputs": []
  },
  {
   "cell_type": "code",
   "execution_count": 11,
   "metadata": {},
   "outputs": [],
   "source": [
    "NbOfPerson = 7\n",
    "NbToWin = 2\n",
    "NbToStart = 1"
   ]
  },
  {
   "cell_type": "markdown",
   "metadata": {},
   "source": [
    "Main data generation\n",
    "------\n",
    "From there, we generate the list of investor and all the permutation\n",
    "\n",
    "With 7 investor, there's 5040 permutation"
   ],
   "execution_count": null,
   "outputs": []
  },
  {
   "cell_type": "code",
   "execution_count": 12,
   "metadata": {},
   "outputs": [
    {
     "output_type": "stream",
     "name": "stdout",
     "text": "5040 permutation\n"
    },
    {
     "output_type": "execute_result",
     "data": {
      "text/plain": "      1  2  3  4  5  6  7\n0     1  2  3  4  5  6  7\n1     1  2  3  4  5  7  6\n2     1  2  3  4  6  5  7\n3     1  2  3  4  6  7  5\n4     1  2  3  4  7  5  6\n...  .. .. .. .. .. .. ..\n5035  7  6  5  4  1  3  2\n5036  7  6  5  4  2  1  3\n5037  7  6  5  4  2  3  1\n5038  7  6  5  4  3  1  2\n5039  7  6  5  4  3  2  1\n\n[5040 rows x 7 columns]",
      "text/html": "<div>\n<style scoped>\n    .dataframe tbody tr th:only-of-type {\n        vertical-align: middle;\n    }\n\n    .dataframe tbody tr th {\n        vertical-align: top;\n    }\n\n    .dataframe thead th {\n        text-align: right;\n    }\n</style>\n<table border=\"1\" class=\"dataframe\">\n  <thead>\n    <tr style=\"text-align: right;\">\n      <th></th>\n      <th>1</th>\n      <th>2</th>\n      <th>3</th>\n      <th>4</th>\n      <th>5</th>\n      <th>6</th>\n      <th>7</th>\n    </tr>\n  </thead>\n  <tbody>\n    <tr>\n      <th>0</th>\n      <td>1</td>\n      <td>2</td>\n      <td>3</td>\n      <td>4</td>\n      <td>5</td>\n      <td>6</td>\n      <td>7</td>\n    </tr>\n    <tr>\n      <th>1</th>\n      <td>1</td>\n      <td>2</td>\n      <td>3</td>\n      <td>4</td>\n      <td>5</td>\n      <td>7</td>\n      <td>6</td>\n    </tr>\n    <tr>\n      <th>2</th>\n      <td>1</td>\n      <td>2</td>\n      <td>3</td>\n      <td>4</td>\n      <td>6</td>\n      <td>5</td>\n      <td>7</td>\n    </tr>\n    <tr>\n      <th>3</th>\n      <td>1</td>\n      <td>2</td>\n      <td>3</td>\n      <td>4</td>\n      <td>6</td>\n      <td>7</td>\n      <td>5</td>\n    </tr>\n    <tr>\n      <th>4</th>\n      <td>1</td>\n      <td>2</td>\n      <td>3</td>\n      <td>4</td>\n      <td>7</td>\n      <td>5</td>\n      <td>6</td>\n    </tr>\n    <tr>\n      <th>...</th>\n      <td>...</td>\n      <td>...</td>\n      <td>...</td>\n      <td>...</td>\n      <td>...</td>\n      <td>...</td>\n      <td>...</td>\n    </tr>\n    <tr>\n      <th>5035</th>\n      <td>7</td>\n      <td>6</td>\n      <td>5</td>\n      <td>4</td>\n      <td>1</td>\n      <td>3</td>\n      <td>2</td>\n    </tr>\n    <tr>\n      <th>5036</th>\n      <td>7</td>\n      <td>6</td>\n      <td>5</td>\n      <td>4</td>\n      <td>2</td>\n      <td>1</td>\n      <td>3</td>\n    </tr>\n    <tr>\n      <th>5037</th>\n      <td>7</td>\n      <td>6</td>\n      <td>5</td>\n      <td>4</td>\n      <td>2</td>\n      <td>3</td>\n      <td>1</td>\n    </tr>\n    <tr>\n      <th>5038</th>\n      <td>7</td>\n      <td>6</td>\n      <td>5</td>\n      <td>4</td>\n      <td>3</td>\n      <td>1</td>\n      <td>2</td>\n    </tr>\n    <tr>\n      <th>5039</th>\n      <td>7</td>\n      <td>6</td>\n      <td>5</td>\n      <td>4</td>\n      <td>3</td>\n      <td>2</td>\n      <td>1</td>\n    </tr>\n  </tbody>\n</table>\n<p>5040 rows × 7 columns</p>\n</div>"
     },
     "metadata": {},
     "execution_count": 12
    }
   ],
   "source": [
    "ListOfPersons = list(range(1,NbOfPerson+1))\n",
    "AllPermutations = itertools.permutations(ListOfPersons, NbOfPerson)\n",
    "pdPermutations = pd.DataFrame(list(AllPermutations))\n",
    "pdPermutations.columns = ListOfPersons\n",
    "print(len(pdPermutations), \"permutation\")\n",
    "pdPermutations"
   ]
  },
  {
   "cell_type": "markdown",
   "metadata": {},
   "source": [
    "Starting Situation\n",
    "------\n",
    "With all our permutation, we get a list of permutation that respect the starting condition"
   ],
   "execution_count": null,
   "outputs": []
  },
  {
   "cell_type": "code",
   "execution_count": 13,
   "metadata": {},
   "outputs": [
    {
     "output_type": "stream",
     "name": "stdout",
     "text": "Starting with  1855 permutation\n"
    },
    {
     "output_type": "execute_result",
     "data": {
      "text/plain": "      1  2  3  4  5  6  7\n127   1  3  2  5  4  7  6\n129   1  3  2  5  6  7  4\n130   1  3  2  5  7  4  6\n133   1  3  2  6  4  7  5\n136   1  3  2  6  7  4  5\n...  .. .. .. .. .. .. ..\n5035  7  6  5  4  1  3  2\n5036  7  6  5  4  2  1  3\n5037  7  6  5  4  2  3  1\n5038  7  6  5  4  3  1  2\n5039  7  6  5  4  3  2  1\n\n[1855 rows x 7 columns]",
      "text/html": "<div>\n<style scoped>\n    .dataframe tbody tr th:only-of-type {\n        vertical-align: middle;\n    }\n\n    .dataframe tbody tr th {\n        vertical-align: top;\n    }\n\n    .dataframe thead th {\n        text-align: right;\n    }\n</style>\n<table border=\"1\" class=\"dataframe\">\n  <thead>\n    <tr style=\"text-align: right;\">\n      <th></th>\n      <th>1</th>\n      <th>2</th>\n      <th>3</th>\n      <th>4</th>\n      <th>5</th>\n      <th>6</th>\n      <th>7</th>\n    </tr>\n  </thead>\n  <tbody>\n    <tr>\n      <th>127</th>\n      <td>1</td>\n      <td>3</td>\n      <td>2</td>\n      <td>5</td>\n      <td>4</td>\n      <td>7</td>\n      <td>6</td>\n    </tr>\n    <tr>\n      <th>129</th>\n      <td>1</td>\n      <td>3</td>\n      <td>2</td>\n      <td>5</td>\n      <td>6</td>\n      <td>7</td>\n      <td>4</td>\n    </tr>\n    <tr>\n      <th>130</th>\n      <td>1</td>\n      <td>3</td>\n      <td>2</td>\n      <td>5</td>\n      <td>7</td>\n      <td>4</td>\n      <td>6</td>\n    </tr>\n    <tr>\n      <th>133</th>\n      <td>1</td>\n      <td>3</td>\n      <td>2</td>\n      <td>6</td>\n      <td>4</td>\n      <td>7</td>\n      <td>5</td>\n    </tr>\n    <tr>\n      <th>136</th>\n      <td>1</td>\n      <td>3</td>\n      <td>2</td>\n      <td>6</td>\n      <td>7</td>\n      <td>4</td>\n      <td>5</td>\n    </tr>\n    <tr>\n      <th>...</th>\n      <td>...</td>\n      <td>...</td>\n      <td>...</td>\n      <td>...</td>\n      <td>...</td>\n      <td>...</td>\n      <td>...</td>\n    </tr>\n    <tr>\n      <th>5035</th>\n      <td>7</td>\n      <td>6</td>\n      <td>5</td>\n      <td>4</td>\n      <td>1</td>\n      <td>3</td>\n      <td>2</td>\n    </tr>\n    <tr>\n      <th>5036</th>\n      <td>7</td>\n      <td>6</td>\n      <td>5</td>\n      <td>4</td>\n      <td>2</td>\n      <td>1</td>\n      <td>3</td>\n    </tr>\n    <tr>\n      <th>5037</th>\n      <td>7</td>\n      <td>6</td>\n      <td>5</td>\n      <td>4</td>\n      <td>2</td>\n      <td>3</td>\n      <td>1</td>\n    </tr>\n    <tr>\n      <th>5038</th>\n      <td>7</td>\n      <td>6</td>\n      <td>5</td>\n      <td>4</td>\n      <td>3</td>\n      <td>1</td>\n      <td>2</td>\n    </tr>\n    <tr>\n      <th>5039</th>\n      <td>7</td>\n      <td>6</td>\n      <td>5</td>\n      <td>4</td>\n      <td>3</td>\n      <td>2</td>\n      <td>1</td>\n    </tr>\n  </tbody>\n</table>\n<p>1855 rows × 7 columns</p>\n</div>"
     },
     "metadata": {},
     "execution_count": 13
    }
   ],
   "source": [
    "StartingSituation = pdPermutations.loc[IsSitProperly(pdPermutations,ListOfPersons).sum()==NbToStart]\n",
    "print(\"Starting with \", len(StartingSituation), \"permutation\")\n",
    "StartingSituation"
   ]
  },
  {
   "cell_type": "markdown",
   "metadata": {},
   "source": [
    "Solution\n",
    "======\n",
    "From there, for each table rotation, we check if a permutation is a winner.\n",
    "\n",
    "At the end, we find all the permutation where there's no spin that let us win.\n",
    "\n",
    "For the problem expose by Matt, there's **133** starting position where there's no win possible"
   ],
   "execution_count": null,
   "outputs": []
  },
  {
   "cell_type": "code",
   "execution_count": 14,
   "metadata": {},
   "outputs": [
    {
     "output_type": "execute_result",
     "data": {
      "text/plain": "      1  2  3  4  5  6  7\n186   1  3  5  7  2  4  6\n197   1  3  6  2  7  5  4\n236   1  3  7  6  4  2  5\n262   1  4  2  7  6  3  5\n319   1  4  6  3  2  7  5\n...  .. .. .. .. .. .. ..\n4869  7  5  3  6  2  4  1\n4875  7  5  4  1  3  6  2\n4987  7  6  3  5  1  4  2\n5002  7  6  4  2  5  1  3\n5039  7  6  5  4  3  2  1\n\n[133 rows x 7 columns]",
      "text/html": "<div>\n<style scoped>\n    .dataframe tbody tr th:only-of-type {\n        vertical-align: middle;\n    }\n\n    .dataframe tbody tr th {\n        vertical-align: top;\n    }\n\n    .dataframe thead th {\n        text-align: right;\n    }\n</style>\n<table border=\"1\" class=\"dataframe\">\n  <thead>\n    <tr style=\"text-align: right;\">\n      <th></th>\n      <th>1</th>\n      <th>2</th>\n      <th>3</th>\n      <th>4</th>\n      <th>5</th>\n      <th>6</th>\n      <th>7</th>\n    </tr>\n  </thead>\n  <tbody>\n    <tr>\n      <th>186</th>\n      <td>1</td>\n      <td>3</td>\n      <td>5</td>\n      <td>7</td>\n      <td>2</td>\n      <td>4</td>\n      <td>6</td>\n    </tr>\n    <tr>\n      <th>197</th>\n      <td>1</td>\n      <td>3</td>\n      <td>6</td>\n      <td>2</td>\n      <td>7</td>\n      <td>5</td>\n      <td>4</td>\n    </tr>\n    <tr>\n      <th>236</th>\n      <td>1</td>\n      <td>3</td>\n      <td>7</td>\n      <td>6</td>\n      <td>4</td>\n      <td>2</td>\n      <td>5</td>\n    </tr>\n    <tr>\n      <th>262</th>\n      <td>1</td>\n      <td>4</td>\n      <td>2</td>\n      <td>7</td>\n      <td>6</td>\n      <td>3</td>\n      <td>5</td>\n    </tr>\n    <tr>\n      <th>319</th>\n      <td>1</td>\n      <td>4</td>\n      <td>6</td>\n      <td>3</td>\n      <td>2</td>\n      <td>7</td>\n      <td>5</td>\n    </tr>\n    <tr>\n      <th>...</th>\n      <td>...</td>\n      <td>...</td>\n      <td>...</td>\n      <td>...</td>\n      <td>...</td>\n      <td>...</td>\n      <td>...</td>\n    </tr>\n    <tr>\n      <th>4869</th>\n      <td>7</td>\n      <td>5</td>\n      <td>3</td>\n      <td>6</td>\n      <td>2</td>\n      <td>4</td>\n      <td>1</td>\n    </tr>\n    <tr>\n      <th>4875</th>\n      <td>7</td>\n      <td>5</td>\n      <td>4</td>\n      <td>1</td>\n      <td>3</td>\n      <td>6</td>\n      <td>2</td>\n    </tr>\n    <tr>\n      <th>4987</th>\n      <td>7</td>\n      <td>6</td>\n      <td>3</td>\n      <td>5</td>\n      <td>1</td>\n      <td>4</td>\n      <td>2</td>\n    </tr>\n    <tr>\n      <th>5002</th>\n      <td>7</td>\n      <td>6</td>\n      <td>4</td>\n      <td>2</td>\n      <td>5</td>\n      <td>1</td>\n      <td>3</td>\n    </tr>\n    <tr>\n      <th>5039</th>\n      <td>7</td>\n      <td>6</td>\n      <td>5</td>\n      <td>4</td>\n      <td>3</td>\n      <td>2</td>\n      <td>1</td>\n    </tr>\n  </tbody>\n</table>\n<p>133 rows × 7 columns</p>\n</div>"
     },
     "metadata": {},
     "execution_count": 14
    }
   ],
   "source": [
    "RotationResult = []\n",
    "for TableRotation in range(1,NbOfPerson):\n",
    "    RotationResult.append(IsSitProperly(StartingSituation,ListOfPersons,TableRotation).sum()>=NbToWin)\n",
    "pdResult = StartingSituation.loc[pd.DataFrame(RotationResult).sum()==0]\n",
    "pdResult"
   ]
  }
 ]
}